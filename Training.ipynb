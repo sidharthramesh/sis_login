{
 "cells": [
  {
   "cell_type": "code",
   "execution_count": 1,
   "metadata": {
    "collapsed": true
   },
   "outputs": [],
   "source": [
    "import preprocess\n",
    "import matplotlib.pyplot as plt\n",
    "%matplotlib inline\n",
    "import numpy as np\n",
    "import cPickle as pkl"
   ]
  },
  {
   "cell_type": "markdown",
   "metadata": {},
   "source": [
    "# Reformat ans shape data and labels"
   ]
  },
  {
   "cell_type": "code",
   "execution_count": 2,
   "metadata": {
    "collapsed": false
   },
   "outputs": [],
   "source": [
    "data=[]\n",
    "for i in range(500):\n",
    "    path = 'train_data/'+str(i+1)+'.jpeg'\n",
    "    split=preprocess.process(plt.imread(path))\n",
    "    for i in range(5):\n",
    "        data.append(split[i])\n",
    "data=np.array(data)\n",
    "\n",
    "with open('../cap_data.pkl','rb') as f:\n",
    "    d= pkl.load(f)\n",
    "\n",
    "labels = d['labels']"
   ]
  },
  {
   "cell_type": "markdown",
   "metadata": {},
   "source": [
    "# For Internet Images:"
   ]
  },
  {
   "cell_type": "code",
   "execution_count": 3,
   "metadata": {
    "collapsed": false
   },
   "outputs": [],
   "source": [
    "from captchaurl import *"
   ]
  },
  {
   "cell_type": "code",
   "execution_count": 4,
   "metadata": {
    "collapsed": true
   },
   "outputs": [],
   "source": [
    "url = get_cap_url()\n",
    "cap_img = get_captcha(url)\n",
    "cap_img = preprocess.process(cap_img)"
   ]
  },
  {
   "cell_type": "code",
   "execution_count": 5,
   "metadata": {
    "collapsed": false
   },
   "outputs": [
    {
     "data": {
      "text/plain": [
       "29"
      ]
     },
     "execution_count": 5,
     "metadata": {},
     "output_type": "execute_result"
    }
   ],
   "source": [
    "labels.shape[1]"
   ]
  },
  {
   "cell_type": "markdown",
   "metadata": {},
   "source": [
    "# Train a neural net"
   ]
  },
  {
   "cell_type": "markdown",
   "metadata": {},
   "source": [
    "## Reformat data to 1d:"
   ]
  },
  {
   "cell_type": "code",
   "execution_count": 6,
   "metadata": {
    "collapsed": true
   },
   "outputs": [],
   "source": [
    "data_flat = data.reshape(-1,28*28)"
   ]
  },
  {
   "cell_type": "code",
   "execution_count": 7,
   "metadata": {
    "collapsed": false
   },
   "outputs": [
    {
     "data": {
      "text/plain": [
       "(2500, 784)"
      ]
     },
     "execution_count": 7,
     "metadata": {},
     "output_type": "execute_result"
    }
   ],
   "source": [
    "data_flat.shape"
   ]
  },
  {
   "cell_type": "code",
   "execution_count": 8,
   "metadata": {
    "collapsed": false
   },
   "outputs": [
    {
     "name": "stderr",
     "output_type": "stream",
     "text": [
      "Using Theano backend.\n",
      "Using gpu device 0: GeForce GTX 970 (CNMeM is enabled with initial size: 70.0% of memory, cuDNN 4007)\n"
     ]
    }
   ],
   "source": [
    "from keras.layers import Dense,Dropout,Conv2D,MaxPooling2D,ZeroPadding2D,Flatten\n",
    "from keras.models import Sequential\n",
    "from keras.datasets import mnist"
   ]
  },
  {
   "cell_type": "code",
   "execution_count": 9,
   "metadata": {
    "collapsed": false
   },
   "outputs": [],
   "source": [
    "model = Sequential()\n",
    "input_shape=(1,28,28)\n",
    "model.add(ZeroPadding2D((1,1),input_shape=input_shape))\n",
    "model.add(Conv2D(16,3,3, activation='relu'))\n",
    "model.add(MaxPooling2D(strides=(2,2)))\n",
    "model.add(ZeroPadding2D())\n",
    "model.add(Conv2D(32,3,3, activation='relu'))\n",
    "model.add(MaxPooling2D(strides=(2,2)))\n",
    "#model.add(Dense(2048, init='uniform',activation='relu')\n",
    "model.add(Flatten())\n",
    "model.add(Dense(1024, init='uniform',activation='relu'))\n",
    "model.add(Dropout(0.5))\n",
    "#model.add(Dropout(0.6))\n",
    "#model.add(Dense(400, init='uniform',activation='relu'))\n",
    "model.add(Dense(10,init='uniform',activation='softmax'))\n",
    "model.compile(optimizer='adadelta',loss='categorical_crossentropy',metrics=['accuracy'])"
   ]
  },
  {
   "cell_type": "code",
   "execution_count": 10,
   "metadata": {
    "collapsed": true
   },
   "outputs": [],
   "source": [
    "(td,tl),(tesd,tesl) = mnist.load_data()"
   ]
  },
  {
   "cell_type": "code",
   "execution_count": 11,
   "metadata": {
    "collapsed": false
   },
   "outputs": [],
   "source": [
    "# reformat labels:\n",
    "tl=np.array([(np.arange(10)==x).astype(np.float32) for x in tl])"
   ]
  },
  {
   "cell_type": "code",
   "execution_count": 12,
   "metadata": {
    "collapsed": false
   },
   "outputs": [
    {
     "name": "stdout",
     "output_type": "stream",
     "text": [
      "Train on 48000 samples, validate on 12000 samples\n",
      "Epoch 1/10\n",
      "48000/48000 [==============================] - 4s - loss: 0.7987 - acc: 0.9012 - val_loss: 0.0842 - val_acc: 0.9760\n",
      "Epoch 2/10\n",
      "48000/48000 [==============================] - 4s - loss: 0.0885 - acc: 0.9746 - val_loss: 0.0612 - val_acc: 0.9823\n",
      "Epoch 3/10\n",
      "48000/48000 [==============================] - 4s - loss: 0.0613 - acc: 0.9822 - val_loss: 0.0579 - val_acc: 0.9831\n",
      "Epoch 4/10\n",
      "48000/48000 [==============================] - 4s - loss: 0.0441 - acc: 0.9870 - val_loss: 0.0558 - val_acc: 0.9855\n",
      "Epoch 5/10\n",
      "48000/48000 [==============================] - 4s - loss: 0.0349 - acc: 0.9896 - val_loss: 0.0574 - val_acc: 0.9864\n",
      "Epoch 6/10\n",
      "48000/48000 [==============================] - 4s - loss: 0.0277 - acc: 0.9917 - val_loss: 0.0717 - val_acc: 0.9836\n",
      "Epoch 7/10\n",
      "48000/48000 [==============================] - 4s - loss: 0.0255 - acc: 0.9926 - val_loss: 0.0536 - val_acc: 0.9873\n",
      "Epoch 8/10\n",
      "48000/48000 [==============================] - 4s - loss: 0.0217 - acc: 0.9935 - val_loss: 0.0530 - val_acc: 0.9877\n",
      "Epoch 9/10\n",
      "48000/48000 [==============================] - 4s - loss: 0.0176 - acc: 0.9951 - val_loss: 0.0572 - val_acc: 0.9884\n",
      "Epoch 10/10\n",
      "48000/48000 [==============================] - 4s - loss: 0.0149 - acc: 0.9954 - val_loss: 0.0646 - val_acc: 0.9871\n"
     ]
    },
    {
     "data": {
      "text/plain": [
       "<keras.callbacks.History at 0x7fb5a248eb10>"
      ]
     },
     "execution_count": 12,
     "metadata": {},
     "output_type": "execute_result"
    }
   ],
   "source": [
    "model.fit(td.reshape(-1,1,28,28),tl,validation_split=0.2,nb_epoch=10)"
   ]
  },
  {
   "cell_type": "code",
   "execution_count": 13,
   "metadata": {
    "collapsed": false
   },
   "outputs": [],
   "source": [
    "model.pop()"
   ]
  },
  {
   "cell_type": "code",
   "execution_count": 14,
   "metadata": {
    "collapsed": false
   },
   "outputs": [],
   "source": [
    "model.add(Dense(29,init='uniform',activation='softmax'))"
   ]
  },
  {
   "cell_type": "code",
   "execution_count": 15,
   "metadata": {
    "collapsed": true
   },
   "outputs": [],
   "source": [
    "model.compile(optimizer='adadelta',loss='categorical_crossentropy',metrics=['accuracy'])"
   ]
  },
  {
   "cell_type": "code",
   "execution_count": 17,
   "metadata": {
    "collapsed": false
   },
   "outputs": [
    {
     "name": "stdout",
     "output_type": "stream",
     "text": [
      "Train on 2000 samples, validate on 500 samples\n",
      "Epoch 1/100\n",
      "2000/2000 [==============================] - 0s - loss: 2.8424 - acc: 0.2060 - val_loss: 3.3344 - val_acc: 0.1020\n",
      "Epoch 2/100\n",
      "2000/2000 [==============================] - 0s - loss: 2.7630 - acc: 0.2260 - val_loss: 3.3118 - val_acc: 0.1220\n",
      "Epoch 3/100\n",
      "2000/2000 [==============================] - 0s - loss: 2.6770 - acc: 0.2530 - val_loss: 3.2734 - val_acc: 0.1440\n",
      "Epoch 4/100\n",
      "2000/2000 [==============================] - 0s - loss: 2.5667 - acc: 0.2725 - val_loss: 3.3182 - val_acc: 0.1300\n",
      "Epoch 5/100\n",
      "2000/2000 [==============================] - 0s - loss: 2.4398 - acc: 0.3100 - val_loss: 3.3757 - val_acc: 0.1500\n",
      "Epoch 6/100\n",
      "2000/2000 [==============================] - 0s - loss: 2.3439 - acc: 0.3355 - val_loss: 3.4332 - val_acc: 0.1440\n",
      "Epoch 7/100\n",
      "2000/2000 [==============================] - 0s - loss: 2.2304 - acc: 0.3625 - val_loss: 3.4413 - val_acc: 0.1460\n",
      "Epoch 8/100\n",
      "2000/2000 [==============================] - 0s - loss: 2.1438 - acc: 0.3880 - val_loss: 3.4745 - val_acc: 0.1360\n",
      "Epoch 9/100\n",
      "2000/2000 [==============================] - 0s - loss: 2.0325 - acc: 0.4275 - val_loss: 3.5114 - val_acc: 0.1520\n",
      "Epoch 10/100\n",
      "2000/2000 [==============================] - 0s - loss: 1.9125 - acc: 0.4390 - val_loss: 3.5454 - val_acc: 0.1600\n",
      "Epoch 11/100\n",
      "2000/2000 [==============================] - 0s - loss: 1.8048 - acc: 0.4780 - val_loss: 3.6387 - val_acc: 0.1340\n",
      "Epoch 12/100\n",
      "2000/2000 [==============================] - 0s - loss: 1.7055 - acc: 0.5055 - val_loss: 3.6760 - val_acc: 0.1480\n",
      "Epoch 13/100\n",
      "2000/2000 [==============================] - 0s - loss: 1.5851 - acc: 0.5290 - val_loss: 3.6864 - val_acc: 0.1560\n",
      "Epoch 14/100\n",
      "2000/2000 [==============================] - 0s - loss: 1.4819 - acc: 0.5750 - val_loss: 3.8197 - val_acc: 0.1460\n",
      "Epoch 15/100\n",
      "2000/2000 [==============================] - 0s - loss: 1.3598 - acc: 0.6060 - val_loss: 3.9348 - val_acc: 0.1360\n",
      "Epoch 16/100\n",
      "2000/2000 [==============================] - 0s - loss: 1.2901 - acc: 0.6315 - val_loss: 4.0322 - val_acc: 0.1300\n",
      "Epoch 17/100\n",
      "2000/2000 [==============================] - 0s - loss: 1.1857 - acc: 0.6675 - val_loss: 3.9787 - val_acc: 0.1480\n",
      "Epoch 18/100\n",
      "2000/2000 [==============================] - 0s - loss: 1.0914 - acc: 0.6950 - val_loss: 4.0956 - val_acc: 0.1380\n",
      "Epoch 19/100\n",
      "2000/2000 [==============================] - 0s - loss: 0.9990 - acc: 0.7205 - val_loss: 4.2479 - val_acc: 0.1300\n",
      "Epoch 20/100\n",
      "2000/2000 [==============================] - 0s - loss: 0.9161 - acc: 0.7460 - val_loss: 4.3179 - val_acc: 0.1280\n",
      "Epoch 21/100\n",
      "2000/2000 [==============================] - 0s - loss: 0.8813 - acc: 0.7605 - val_loss: 4.3762 - val_acc: 0.1340\n",
      "Epoch 22/100\n",
      "2000/2000 [==============================] - 0s - loss: 0.7914 - acc: 0.7860 - val_loss: 4.5434 - val_acc: 0.1260\n",
      "Epoch 23/100\n",
      "2000/2000 [==============================] - 0s - loss: 0.7290 - acc: 0.8085 - val_loss: 4.5280 - val_acc: 0.1240\n",
      "Epoch 24/100\n",
      "2000/2000 [==============================] - 0s - loss: 0.6820 - acc: 0.8075 - val_loss: 4.5719 - val_acc: 0.1320\n",
      "Epoch 25/100\n",
      "2000/2000 [==============================] - 0s - loss: 0.6009 - acc: 0.8425 - val_loss: 4.7719 - val_acc: 0.1240\n",
      "Epoch 26/100\n",
      "2000/2000 [==============================] - 0s - loss: 0.5660 - acc: 0.8535 - val_loss: 4.8736 - val_acc: 0.1380\n",
      "Epoch 27/100\n",
      "2000/2000 [==============================] - 0s - loss: 0.5292 - acc: 0.8575 - val_loss: 4.9062 - val_acc: 0.1280\n",
      "Epoch 28/100\n",
      "2000/2000 [==============================] - 0s - loss: 0.4592 - acc: 0.8885 - val_loss: 4.9869 - val_acc: 0.1280\n",
      "Epoch 29/100\n",
      "2000/2000 [==============================] - 0s - loss: 0.4562 - acc: 0.8885 - val_loss: 5.0717 - val_acc: 0.1220\n",
      "Epoch 30/100\n",
      "2000/2000 [==============================] - 0s - loss: 0.3985 - acc: 0.9070 - val_loss: 5.1420 - val_acc: 0.1280\n",
      "Epoch 31/100\n",
      "2000/2000 [==============================] - 0s - loss: 0.3742 - acc: 0.9055 - val_loss: 5.2870 - val_acc: 0.1180\n",
      "Epoch 32/100\n",
      "2000/2000 [==============================] - 0s - loss: 0.3280 - acc: 0.9185 - val_loss: 5.4289 - val_acc: 0.1180\n",
      "Epoch 33/100\n",
      "2000/2000 [==============================] - 0s - loss: 0.2963 - acc: 0.9320 - val_loss: 5.4830 - val_acc: 0.1180\n",
      "Epoch 34/100\n",
      "2000/2000 [==============================] - 0s - loss: 0.2638 - acc: 0.9390 - val_loss: 5.4771 - val_acc: 0.1340\n",
      "Epoch 35/100\n",
      "2000/2000 [==============================] - 0s - loss: 0.2595 - acc: 0.9425 - val_loss: 5.4900 - val_acc: 0.1260\n",
      "Epoch 36/100\n",
      "2000/2000 [==============================] - 0s - loss: 0.2634 - acc: 0.9415 - val_loss: 5.6351 - val_acc: 0.1160\n",
      "Epoch 37/100\n",
      "2000/2000 [==============================] - 0s - loss: 0.2353 - acc: 0.9410 - val_loss: 5.8615 - val_acc: 0.1240\n",
      "Epoch 38/100\n",
      "2000/2000 [==============================] - 0s - loss: 0.2224 - acc: 0.9440 - val_loss: 5.8405 - val_acc: 0.1260\n",
      "Epoch 39/100\n",
      "2000/2000 [==============================] - 0s - loss: 0.1932 - acc: 0.9580 - val_loss: 5.9587 - val_acc: 0.1220\n",
      "Epoch 40/100\n",
      "2000/2000 [==============================] - 0s - loss: 0.1719 - acc: 0.9585 - val_loss: 5.8781 - val_acc: 0.1220\n",
      "Epoch 41/100\n",
      "2000/2000 [==============================] - 0s - loss: 0.1742 - acc: 0.9650 - val_loss: 5.8771 - val_acc: 0.1280\n",
      "Epoch 42/100\n",
      "2000/2000 [==============================] - 0s - loss: 0.1554 - acc: 0.9585 - val_loss: 6.0736 - val_acc: 0.1260\n",
      "Epoch 43/100\n",
      "2000/2000 [==============================] - 0s - loss: 0.1499 - acc: 0.9650 - val_loss: 6.2376 - val_acc: 0.1200\n",
      "Epoch 44/100\n",
      "2000/2000 [==============================] - 0s - loss: 0.1426 - acc: 0.9650 - val_loss: 6.2200 - val_acc: 0.1240\n",
      "Epoch 45/100\n",
      "2000/2000 [==============================] - 0s - loss: 0.1330 - acc: 0.9700 - val_loss: 6.3504 - val_acc: 0.1300\n",
      "Epoch 46/100\n",
      "2000/2000 [==============================] - 0s - loss: 0.1124 - acc: 0.9795 - val_loss: 6.4589 - val_acc: 0.1240\n",
      "Epoch 47/100\n",
      "2000/2000 [==============================] - 0s - loss: 0.1109 - acc: 0.9760 - val_loss: 6.4109 - val_acc: 0.1280\n",
      "Epoch 48/100\n",
      "2000/2000 [==============================] - 0s - loss: 0.1067 - acc: 0.9775 - val_loss: 6.4462 - val_acc: 0.1260\n",
      "Epoch 49/100\n",
      "2000/2000 [==============================] - 0s - loss: 0.1035 - acc: 0.9765 - val_loss: 6.5106 - val_acc: 0.1300\n",
      "Epoch 50/100\n",
      "2000/2000 [==============================] - 0s - loss: 0.0920 - acc: 0.9855 - val_loss: 6.5762 - val_acc: 0.1220\n",
      "Epoch 51/100\n",
      "2000/2000 [==============================] - 0s - loss: 0.0867 - acc: 0.9795 - val_loss: 6.5517 - val_acc: 0.1300\n",
      "Epoch 52/100\n",
      "2000/2000 [==============================] - 0s - loss: 0.0771 - acc: 0.9840 - val_loss: 6.7219 - val_acc: 0.1240\n",
      "Epoch 53/100\n",
      "2000/2000 [==============================] - 0s - loss: 0.0707 - acc: 0.9840 - val_loss: 6.8066 - val_acc: 0.1240\n",
      "Epoch 54/100\n",
      "2000/2000 [==============================] - 0s - loss: 0.0689 - acc: 0.9865 - val_loss: 6.8452 - val_acc: 0.1280\n",
      "Epoch 55/100\n",
      "2000/2000 [==============================] - 0s - loss: 0.0673 - acc: 0.9865 - val_loss: 6.8165 - val_acc: 0.1280\n",
      "Epoch 56/100\n",
      "2000/2000 [==============================] - 0s - loss: 0.0630 - acc: 0.9890 - val_loss: 6.9856 - val_acc: 0.1240\n",
      "Epoch 57/100\n",
      "2000/2000 [==============================] - 0s - loss: 0.0668 - acc: 0.9850 - val_loss: 6.9749 - val_acc: 0.1300\n",
      "Epoch 58/100\n",
      "2000/2000 [==============================] - 0s - loss: 0.0588 - acc: 0.9915 - val_loss: 7.1045 - val_acc: 0.1280\n",
      "Epoch 59/100\n",
      "2000/2000 [==============================] - 0s - loss: 0.0614 - acc: 0.9865 - val_loss: 7.1201 - val_acc: 0.1300\n",
      "Epoch 60/100\n",
      "2000/2000 [==============================] - 0s - loss: 0.0576 - acc: 0.9885 - val_loss: 7.0967 - val_acc: 0.1360\n",
      "Epoch 61/100\n",
      "2000/2000 [==============================] - 0s - loss: 0.0527 - acc: 0.9900 - val_loss: 7.2744 - val_acc: 0.1240\n",
      "Epoch 62/100\n",
      "2000/2000 [==============================] - 0s - loss: 0.0452 - acc: 0.9915 - val_loss: 7.2068 - val_acc: 0.1240\n",
      "Epoch 63/100\n",
      "2000/2000 [==============================] - 0s - loss: 0.0451 - acc: 0.9915 - val_loss: 7.3124 - val_acc: 0.1160\n",
      "Epoch 64/100\n",
      "2000/2000 [==============================] - 0s - loss: 0.0519 - acc: 0.9840 - val_loss: 7.2881 - val_acc: 0.1300\n",
      "Epoch 65/100\n",
      "2000/2000 [==============================] - 0s - loss: 0.0502 - acc: 0.9865 - val_loss: 7.3042 - val_acc: 0.1300\n",
      "Epoch 66/100\n",
      "2000/2000 [==============================] - 0s - loss: 0.0462 - acc: 0.9900 - val_loss: 7.3988 - val_acc: 0.1280\n",
      "Epoch 67/100\n",
      "2000/2000 [==============================] - 0s - loss: 0.0351 - acc: 0.9940 - val_loss: 7.4265 - val_acc: 0.1280\n",
      "Epoch 68/100\n",
      "2000/2000 [==============================] - 0s - loss: 0.0348 - acc: 0.9950 - val_loss: 7.4875 - val_acc: 0.1280\n",
      "Epoch 69/100\n",
      "2000/2000 [==============================] - 0s - loss: 0.0349 - acc: 0.9910 - val_loss: 7.5135 - val_acc: 0.1240\n",
      "Epoch 70/100\n",
      "2000/2000 [==============================] - 0s - loss: 0.0267 - acc: 0.9955 - val_loss: 7.5448 - val_acc: 0.1220\n",
      "Epoch 71/100\n",
      "2000/2000 [==============================] - 0s - loss: 0.0407 - acc: 0.9915 - val_loss: 7.4767 - val_acc: 0.1260\n",
      "Epoch 72/100\n",
      "2000/2000 [==============================] - 0s - loss: 0.0268 - acc: 0.9965 - val_loss: 7.6244 - val_acc: 0.1160\n",
      "Epoch 73/100\n",
      "2000/2000 [==============================] - 0s - loss: 0.0349 - acc: 0.9925 - val_loss: 7.6539 - val_acc: 0.1200\n",
      "Epoch 74/100\n",
      "2000/2000 [==============================] - 0s - loss: 0.0360 - acc: 0.9900 - val_loss: 7.6955 - val_acc: 0.1120\n",
      "Epoch 75/100\n",
      "2000/2000 [==============================] - 0s - loss: 0.0272 - acc: 0.9960 - val_loss: 7.7497 - val_acc: 0.1180\n",
      "Epoch 76/100\n",
      "2000/2000 [==============================] - 0s - loss: 0.0286 - acc: 0.9935 - val_loss: 7.7976 - val_acc: 0.1240\n",
      "Epoch 77/100\n",
      "2000/2000 [==============================] - 0s - loss: 0.0251 - acc: 0.9960 - val_loss: 7.7487 - val_acc: 0.1200\n",
      "Epoch 78/100\n",
      "2000/2000 [==============================] - 0s - loss: 0.0224 - acc: 0.9960 - val_loss: 7.8590 - val_acc: 0.1220\n",
      "Epoch 79/100\n",
      "2000/2000 [==============================] - 0s - loss: 0.0241 - acc: 0.9935 - val_loss: 7.7992 - val_acc: 0.1220\n",
      "Epoch 80/100\n",
      "2000/2000 [==============================] - 0s - loss: 0.0279 - acc: 0.9950 - val_loss: 7.8839 - val_acc: 0.1220\n",
      "Epoch 81/100\n",
      "2000/2000 [==============================] - 0s - loss: 0.0267 - acc: 0.9945 - val_loss: 7.8707 - val_acc: 0.1200\n",
      "Epoch 82/100\n",
      "2000/2000 [==============================] - 0s - loss: 0.0182 - acc: 0.9975 - val_loss: 7.9498 - val_acc: 0.1180\n",
      "Epoch 83/100\n",
      "2000/2000 [==============================] - 0s - loss: 0.0217 - acc: 0.9955 - val_loss: 7.9758 - val_acc: 0.1240\n",
      "Epoch 84/100\n",
      "2000/2000 [==============================] - 0s - loss: 0.0235 - acc: 0.9955 - val_loss: 7.9966 - val_acc: 0.1160\n",
      "Epoch 85/100\n",
      "2000/2000 [==============================] - 0s - loss: 0.0216 - acc: 0.9955 - val_loss: 7.9905 - val_acc: 0.1260\n",
      "Epoch 86/100\n",
      "2000/2000 [==============================] - 0s - loss: 0.0160 - acc: 0.9965 - val_loss: 8.0851 - val_acc: 0.1220\n",
      "Epoch 87/100\n",
      "2000/2000 [==============================] - 0s - loss: 0.0195 - acc: 0.9965 - val_loss: 8.1830 - val_acc: 0.1280\n",
      "Epoch 88/100\n",
      "2000/2000 [==============================] - 0s - loss: 0.0183 - acc: 0.9965 - val_loss: 8.2599 - val_acc: 0.1260\n",
      "Epoch 89/100\n",
      "2000/2000 [==============================] - 0s - loss: 0.0189 - acc: 0.9940 - val_loss: 8.1865 - val_acc: 0.1260\n",
      "Epoch 90/100\n",
      "2000/2000 [==============================] - 0s - loss: 0.0142 - acc: 0.9990 - val_loss: 8.1962 - val_acc: 0.1180\n",
      "Epoch 91/100\n",
      "2000/2000 [==============================] - 0s - loss: 0.0140 - acc: 0.9980 - val_loss: 8.1580 - val_acc: 0.1220\n",
      "Epoch 92/100\n",
      "2000/2000 [==============================] - 0s - loss: 0.0174 - acc: 0.9965 - val_loss: 8.1993 - val_acc: 0.1280\n",
      "Epoch 93/100\n",
      "2000/2000 [==============================] - 0s - loss: 0.0173 - acc: 0.9955 - val_loss: 8.1880 - val_acc: 0.1260\n",
      "Epoch 94/100\n",
      "2000/2000 [==============================] - 0s - loss: 0.0139 - acc: 0.9980 - val_loss: 8.3955 - val_acc: 0.1240\n",
      "Epoch 95/100\n",
      "2000/2000 [==============================] - 0s - loss: 0.0165 - acc: 0.9985 - val_loss: 8.3932 - val_acc: 0.1220\n",
      "Epoch 96/100\n",
      "2000/2000 [==============================] - 0s - loss: 0.0149 - acc: 0.9970 - val_loss: 8.3797 - val_acc: 0.1160\n",
      "Epoch 97/100\n",
      "2000/2000 [==============================] - 0s - loss: 0.0131 - acc: 0.9980 - val_loss: 8.4432 - val_acc: 0.1180\n",
      "Epoch 98/100\n",
      "2000/2000 [==============================] - 0s - loss: 0.0104 - acc: 0.9995 - val_loss: 8.4725 - val_acc: 0.1220\n",
      "Epoch 99/100\n",
      "2000/2000 [==============================] - 0s - loss: 0.0134 - acc: 0.9975 - val_loss: 8.4799 - val_acc: 0.1200\n",
      "Epoch 100/100\n",
      "2000/2000 [==============================] - 0s - loss: 0.0172 - acc: 0.9965 - val_loss: 8.3491 - val_acc: 0.1140\n"
     ]
    },
    {
     "data": {
      "text/plain": [
       "<keras.callbacks.History at 0x7fb5a248ed10>"
      ]
     },
     "execution_count": 17,
     "metadata": {},
     "output_type": "execute_result"
    }
   ],
   "source": [
    "model.fit(data.reshape(-1,1,28,28),labels,validation_split=0.2,nb_epoch=100)"
   ]
  },
  {
   "cell_type": "code",
   "execution_count": null,
   "metadata": {
    "collapsed": true
   },
   "outputs": [],
   "source": []
  }
 ],
 "metadata": {
  "kernelspec": {
   "display_name": "Python [Root]",
   "language": "python",
   "name": "Python [Root]"
  },
  "language_info": {
   "codemirror_mode": {
    "name": "ipython",
    "version": 2
   },
   "file_extension": ".py",
   "mimetype": "text/x-python",
   "name": "python",
   "nbconvert_exporter": "python",
   "pygments_lexer": "ipython2",
   "version": "2.7.12"
  }
 },
 "nbformat": 4,
 "nbformat_minor": 0
}
